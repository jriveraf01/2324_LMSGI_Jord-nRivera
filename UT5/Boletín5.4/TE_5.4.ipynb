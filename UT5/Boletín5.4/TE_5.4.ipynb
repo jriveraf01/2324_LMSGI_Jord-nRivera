{
 "cells": [
  {
   "cell_type": "markdown",
   "metadata": {},
   "source": [
    "# Boletin 5.4\n",
    "\n",
    "### Ejercicios XPath y XQuery\n",
    "\n",
    "**Entrega**\n",
    "\n",
    "La entrega se realizará en este mismo documento incluyendo las consultas XPath y XQuery realizadas.\n",
    "\n",
    "**Recursos**\n",
    "- Apuntes: Para la realización de estos ejercicios utilizar la documentación colgada en el aula virtual (moodle) de la asignatura.\n",
    "- [XML consultas](res/courses_xpath.xml):  Utilizar este fichero XML para realizar las consultas.\n",
    "\n",
    "\n",
    "**Aclaraciones estructura XML**\n",
    "- Es un catalogo de cursos, agrupados por departametos.\n",
    "- Cada departamento, tiene un código, un nombre, y un profesor responsable (`chair`)\n",
    "- Cada curso tiene un número, nº alumnos matriculados (`enrollment`), y un profesor responsable (`instructor`). Un curso puede tener un curso pre-requisito (`prereq`), que se debe realizar antes de poder matricularse en el curso.\n",
    "- Los profesores (instuctores) pueden impartir clase (Profesor) o ser ayudantes (Lecturer)."
   ]
  },
  {
   "cell_type": "markdown",
   "metadata": {},
   "source": [
    "### Ejercicios"
   ]
  },
  {
   "cell_type": "markdown",
   "metadata": {
    "vscode": {
     "languageId": "xml"
    }
   },
   "source": [
    "1. Retorna todos los elementos títulos (de ambos departamentos y cursos)"
   ]
  },
  {
   "cell_type": "raw",
   "metadata": {
    "vscode": {
     "languageId": "xml"
    }
   },
   "source": [
    "//Title/text()"
   ]
  },
  {
   "cell_type": "code",
   "execution_count": null,
   "metadata": {
    "vscode": {
     "languageId": "xml"
    }
   },
   "outputs": [],
   "source": [
    "Computer Science\n",
    "Programming Methodology\n",
    "Programming Abstractions\n",
    "Computer Organization and Systems\n",
    "Introduction to Probability for Computer Scientists\n",
    "From Languages to Information\n",
    "Compilers\n",
    "Introduction to Databases\n",
    "Artificial Intelligence: Principles and Techniques\n",
    "Structured Probabilistic Models: Principles and Techniques\n",
    "Machine Learning\n",
    "Digital Systems I\n",
    "Digital Systems II\n",
    "From Languages to Information"
   ]
  },
  {
   "cell_type": "markdown",
   "metadata": {},
   "source": [
    "2. Retorna los `last-names` de todos los departamentos `chairs`"
   ]
  },
  {
   "cell_type": "raw",
   "metadata": {
    "vscode": {
     "languageId": "xml"
    }
   },
   "source": [
    "//Chair/Professor/Last_Name/text()"
   ]
  },
  {
   "cell_type": "code",
   "execution_count": null,
   "metadata": {},
   "outputs": [],
   "source": [
    "Widom\n",
    "Horowitz\n",
    "Levin"
   ]
  },
  {
   "cell_type": "markdown",
   "metadata": {},
   "source": [
    "3. Retorna títulos de cursos con `enrollment` mayor que 500"
   ]
  },
  {
   "cell_type": "raw",
   "metadata": {
    "vscode": {
     "languageId": "xml"
    }
   },
   "source": [
    "//Course[@Enrollment > 500]/Title/text()"
   ]
  },
  {
   "cell_type": "code",
   "execution_count": null,
   "metadata": {},
   "outputs": [],
   "source": [
    "Programming Methodology\n",
    "Programming Abstractions\n",
    "Computer Organization and Systems\n",
    "Introduction to Probability for Computer Scientists\n",
    "From Languages to Information\n",
    "Compilers\n",
    "Introduction to Databases\n",
    "Artificial Intelligence: Principles and Techniques\n",
    "Machine Learning"
   ]
  },
  {
   "cell_type": "markdown",
   "metadata": {},
   "source": [
    "4. Retorna títulos de departamentos que tengan algún curso que tiene `CS106B` como prerequisito"
   ]
  },
  {
   "cell_type": "raw",
   "metadata": {
    "vscode": {
     "languageId": "xml"
    }
   },
   "source": [
    "//Department[Course/Prerequisites/Prereq[text()='CS106B']]/Title/text()"
   ]
  },
  {
   "cell_type": "code",
   "execution_count": null,
   "metadata": {},
   "outputs": [],
   "source": [
    "Computer Science\n",
    "Electrical Engineering"
   ]
  },
  {
   "cell_type": "markdown",
   "metadata": {},
   "source": [
    "5. Retorna `last-names` de todos los profesores y lecturers quién usa un `middle initial`."
   ]
  },
  {
   "cell_type": "raw",
   "metadata": {
    "vscode": {
     "languageId": "xml"
    }
   },
   "source": [
    "//Professor[../Lecturer/Middle_Initial]/Last_Name/text()"
   ]
  },
  {
   "cell_type": "code",
   "execution_count": null,
   "metadata": {},
   "outputs": [],
   "source": [
    "Cain\n",
    "Roberts\n",
    "Aiken"
   ]
  },
  {
   "cell_type": "markdown",
   "metadata": {},
   "source": [
    "6. Retorna el número de cursos que tiene un `cross-listed` en su descripción"
   ]
  },
  {
   "cell_type": "raw",
   "metadata": {
    "vscode": {
     "languageId": "xml"
    }
   },
   "source": [
    "count(//Course[contains(Description, 'Cross-listed')])"
   ]
  },
  {
   "cell_type": "code",
   "execution_count": null,
   "metadata": {},
   "outputs": [],
   "source": [
    "2"
   ]
  },
  {
   "cell_type": "markdown",
   "metadata": {},
   "source": [
    "7. Retorna la media de matriculados de todos los cursos en el departamento de `CS`"
   ]
  },
  {
   "cell_type": "raw",
   "metadata": {
    "vscode": {
     "languageId": "xml"
    }
   },
   "source": [
    "avg(//Department[@Code='CS']/Course/@Enrollment)"
   ]
  },
  {
   "cell_type": "code",
   "execution_count": null,
   "metadata": {},
   "outputs": [],
   "source": [
    "373.57142857142856"
   ]
  },
  {
   "cell_type": "markdown",
   "metadata": {},
   "source": [
    "8. Retonar los `last-names` de instructores que enseñan al menos un curso que tiene `system` en su descripción y `enrollment` mayor que 100"
   ]
  },
  {
   "cell_type": "raw",
   "metadata": {
    "vscode": {
     "languageId": "xml"
    }
   },
   "source": [
    "//Instructors[contains(../Description, 'system') and ../@Enrollment > 100]/Professor/Last_Name/text()"
   ]
  },
  {
   "cell_type": "code",
   "execution_count": null,
   "metadata": {},
   "outputs": [],
   "source": [
    "Zelenski"
   ]
  },
  {
   "cell_type": "markdown",
   "metadata": {},
   "source": [
    "9. Retorna el título del curso con el número de matriculados más alto"
   ]
  },
  {
   "cell_type": "raw",
   "metadata": {
    "vscode": {
     "languageId": "xml"
    }
   },
   "source": [
    "//Course[@Enrollment = max(//Course/@Enrollment)]/Title/text()"
   ]
  },
  {
   "cell_type": "code",
   "execution_count": null,
   "metadata": {},
   "outputs": [],
   "source": [
    "Programming Methodology"
   ]
  },
  {
   "cell_type": "markdown",
   "metadata": {},
   "source": [
    "10. Retorna el numero de cursos que tienen no `lecturers` como instructores"
   ]
  },
  {
   "cell_type": "raw",
   "metadata": {},
   "source": [
    "count(//Course[not(Instructors/Lecturer)])"
   ]
  },
  {
   "cell_type": "code",
   "execution_count": null,
   "metadata": {},
   "outputs": [],
   "source": [
    "5"
   ]
  },
  {
   "cell_type": "markdown",
   "metadata": {},
   "source": [
    "11. Retornoa tiítulos de cursos impartidos por el `chair` del departamento."
   ]
  },
  {
   "cell_type": "raw",
   "metadata": {},
   "source": [
    "//Department/Chair/Professor/Last_Name/../../Course/Title/text()"
   ]
  },
  {
   "cell_type": "code",
   "execution_count": null,
   "metadata": {},
   "outputs": [],
   "source": [
    "Programming Abstractions\n",
    "Digital Systems I"
   ]
  },
  {
   "cell_type": "markdown",
   "metadata": {},
   "source": [
    "12. Retorna títulos de cursos impartidos por un profesor con el `last-name` ea \"Ng\" pero no por un profesor con el `last-name` \"Thrun\"  💡(usar count() = 0)"
   ]
  },
  {
   "cell_type": "raw",
   "metadata": {},
   "source": [
    "//Course[Instructors/Professor/Last_Name[text()='Ng'] and not(Instructors/Professor/Last_Name[text()='Thrun'])]/Title/text()"
   ]
  },
  {
   "cell_type": "code",
   "execution_count": null,
   "metadata": {},
   "outputs": [],
   "source": [
    "Artificial Intelligence: Principles and Techniques\n",
    "Machine Learning"
   ]
  },
  {
   "cell_type": "markdown",
   "metadata": {},
   "source": [
    "13. Haz un sumatorio de CS clases. Lista todos los departamentos `CS` en orden de número de alumnos matriculados.<br>\n",
    "Por cada curso incluye solo su `Enrollement` (como atributo) y el `title` (como sub-elemento contenido).<br>\n",
    "  \n",
    "Ejemplo de salida:\n",
    "  ```xml\n",
    "  <Summary> \n",
    "    ...\n",
    "    <Course Enrollment=\"60\">\n",
    "      <Title>From Languages to Information</Title>\n",
    "    </Course>\n",
    "    <Course Enrollment=\"90\">\n",
    "      <Title>Compilers</Title>\n",
    "    </Course>\n",
    "    ...\n",
    "  </Summary>\n",
    "    ```"
   ]
  },
  {
   "cell_type": "code",
   "execution_count": null,
   "metadata": {},
   "outputs": [],
   "source": [
    "<Summary>\n",
    "{\n",
    "  for $dept in //Department[@Code='CS']\n",
    "  let $total_enrollment := sum($dept/Course/@Enrollment)\n",
    "  order by $total_enrollment descending\n",
    "  return \n",
    "    <Department Code=\"{$dept/@Code}\" Total_Enrollment=\"{$total_enrollment}\">\n",
    "    {\n",
    "      for $course in $dept/Course\n",
    "      return \n",
    "        <Course Enrollment=\"{$course/@Enrollment}\">\n",
    "          <Title>{data($course/Title)}</Title>\n",
    "        </Course>\n",
    "    }\n",
    "    </Department>\n",
    "}\n",
    "</Summary>"
   ]
  },
  {
   "cell_type": "code",
   "execution_count": null,
   "metadata": {},
   "outputs": [],
   "source": [
    "<Summary>\n",
    "  <Department Code=\"CS\" Total_Enrollment=\"2860\">\n",
    "    <Course Enrollment=\"1070\">\n",
    "      <Title>Programming Methodology</Title>\n",
    "    </Course>\n",
    "    <Course Enrollment=\"620\">\n",
    "      <Title>Programming Abstractions</Title>\n",
    "    </Course>\n",
    "    <Course Enrollment=\"500\">\n",
    "      <Title>Computer Organization and Systems</Title>\n",
    "    </Course>\n",
    "    <Course Enrollment=\"280\">\n",
    "      <Title>Introduction to Probability for Computer Scientists</Title>\n",
    "    </Course>\n",
    "    <Course Enrollment=\"60\">\n",
    "      <Title>From Languages to Information</Title>\n",
    "    </Course>\n",
    "    <Course Enrollment=\"90\">\n",
    "      <Title>Compilers</Title>\n",
    "    </Course>\n",
    "    <Course Enrollment=\"130\">\n",
    "      <Title>Introduction to Databases</Title>\n",
    "    </Course>\n",
    "    <Course Enrollment=\"180\">\n",
    "      <Title>Artificial Intelligence: Principles and Techniques</Title>\n",
    "    </Course>\n",
    "    <Course Enrollment=\"110\">\n",
    "      <Title>Structured Probabilistic Models: Principles and Techniques</Title>\n",
    "    </Course>\n",
    "    <Course Enrollment=\"320\">\n",
    "      <Title>Machine Learning</Title>\n",
    "    </Course>\n",
    "  </Department>\n",
    "</Summary>"
   ]
  },
  {
   "cell_type": "markdown",
   "metadata": {},
   "source": [
    "14. Retorna un `Profesores` elemento que contenga como sub-elementos un listado de todos los profesores in todos los departamentos, ordenados por `last-name` con cada profesor apareciendo una vez. <br>\n",
    "El `Profesor` subelementos deberian tener la misma estructura como en el documento original\n",
    "\n",
    "    ✏️ **nota**: La presencia o ausencia de un `middle-initial` puede requerir acciones para su manejo.\n",
    "  \n",
    "Ejemplo de salida:\n",
    "  ```xml\n",
    "  <Profesores>\n",
    "    <Profesor>\n",
    "      <First_Name>Alex</First_Name>\n",
    "      <Middle_Initial>S.</Middle_Initial>\n",
    "      <Last_Name>Aiken</Last_Name>    \n",
    "    </Profesor>\n",
    "    <Profesor>\n",
    "      <First_Name>William</First_Name>\n",
    "      <Middle_Initial>J.</Middle_Initial>\n",
    "      <Last_Name>Dally</Last_Name>\n",
    "    </Profesor>  \n",
    "    ...\n",
    "  </Profesores>\n",
    "    ```"
   ]
  },
  {
   "cell_type": "markdown",
   "metadata": {},
   "source": [
    "<Profesores>{\n",
    "  for $professor in distinct-values(//Professor/concat(First_Name, '|', Last_Name))\n",
    "  let $first_name := substring-before($professor, '|')\n",
    "  let $last_name := substring-after($professor, '|')\n",
    "  for $prof in //Professor[First_Name=$first_name and Last_Name=$last_name]\n",
    "  order by $last_name\n",
    "  return\n",
    "    <Profesor>\n",
    "      <First_Name>{$first_name}</First_Name>\n",
    "      {\n",
    "        if ($prof/Middle_Initial)\n",
    "        then <Middle_Initial>{$prof/Middle_Initial}</Middle_Initial>\n",
    "        else ()\n",
    "      }\n",
    "      <Last_Name>{$last_name}</Last_Name>\n",
    "    </Profesor>\n",
    "}</Profesores>"
   ]
  },
  {
   "cell_type": "code",
   "execution_count": null,
   "metadata": {
    "vscode": {
     "languageId": "plaintext"
    }
   },
   "outputs": [],
   "source": [
    "\n",
    "<Profesores>\n",
    "  <Profesor>\n",
    "    <First_Name>Alex</First_Name>\n",
    "    <Middle_Initial>S.</Middle_Initial>\n",
    "    <Last_Name>Aiken</Last_Name>\n",
    "  </Profesor>\n",
    "  <Profesor>\n",
    "    <First_Name>Eric</First_Name>\n",
    "    <Last_Name>Roberts</Last_Name>\n",
    "  </Profesor>\n",
    "  <Profesor>\n",
    "    <First_Name>Andrew</First_Name>\n",
    "    <Last_Name>Ng</Last_Name>\n",
    "  </Profesor>\n",
    "  <Profesor>\n",
    "    <First_Name>Sebastian</First_Name>\n",
    "    <Last_Name>Thrun</Last_Name>\n",
    "  </Profesor>\n",
    "  <Profesor>\n",
    "    <First_Name>Dan</First_Name>\n",
    "    <Last_Name>Jurafsky</Last_Name>\n",
    "  </Profesor>\n",
    "  <Profesor>\n",
    "    <First_Name>Daphne</First_Name>\n",
    "    <Last_Name>Koller</Last_Name>\n",
    "  </Profesor>\n",
    "  <Profesor>\n",
    "    <First_Name>Jennifer</First_Name>\n",
    "    <Last_Name>Widom</Last_Name>\n",
    "  </Profesor>\n",
    "  <Profesor>\n",
    "    <First_Name>Julie</First_Name>\n",
    "    <Last_Name>Zelenski</Last_Name>\n",
    "  </Profesor>\n",
    "  <Profesor>\n",
    "    <First_Name>Jerry</First_Name>\n",
    "    <Middle_Initial>R.</Middle_Initial>\n",
    "    <Last_Name>Cain</Last_Name>\n",
    "  </Profesor>\n",
    "  <Profesor>\n",
    "    <First_Name>Mehran</First_Name>\n",
    "    <Last_Name>Sahami</Last_Name>\n",
    "  </Profesor>\n",
    "  <Profesor>\n",
    "    <First_Name>Beth</First_Name>\n",
    "    <Last_Name>Levin</Last_Name>\n",
    "  </Profesor>\n",
    "  <Profesor>\n",
    "    <First_Name>Mark</First_Name>\n",
    "    <Middle_Initial>A.</Middle_Initial>\n",
    "    <Last_Name>Horowitz</Last_Name>\n",
    "  </Profesor>\n",
    "  <Profesor>\n",
    "    <First_Name>Subhasish</First_Name>\n",
    "    <Last_Name>Mitra</Last_Name>\n",
    "  </Profesor>\n",
    "  <Profesor>\n",
    "    <First_Name>William</First_Name>\n",
    "    <Middle_Initial>J.</Middle_Initial>\n",
    "    <Last_Name>Dally</Last_Name>\n",
    "  </Profesor>\n",
    "  <Profesor>\n",
    "    <First_Name>Oyekunle</First_Name>\n",
    "    <Last_Name>Olukotun</Last_Name>\n",
    "  </Profesor>\n",
    "</Profesores>"
   ]
  }
 ],
 "metadata": {
  "kernelspec": {
   "display_name": "Python 3",
   "language": "python",
   "name": "python3"
  },
  "language_info": {
   "codemirror_mode": {
    "name": "ipython",
    "version": 3
   },
   "file_extension": ".py",
   "mimetype": "text/x-python",
   "name": "python",
   "nbconvert_exporter": "python",
   "pygments_lexer": "ipython3",
   "version": "3.9.13"
  }
 },
 "nbformat": 4,
 "nbformat_minor": 2
}
